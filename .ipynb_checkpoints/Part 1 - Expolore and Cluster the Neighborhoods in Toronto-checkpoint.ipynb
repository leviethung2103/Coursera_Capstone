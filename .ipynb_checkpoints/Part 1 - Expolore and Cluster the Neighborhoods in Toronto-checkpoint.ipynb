{
 "cells": [
  {
   "cell_type": "markdown",
   "metadata": {},
   "source": [
    "For this assignment, you will be required to explore and cluster the neighborhoods in Toronto.\n",
    "\n",
    "1. Start by creating a new Notebook for this assignment.\n",
    "2. Use the Notebook to build the code to scrape the following Wikipedia page, https://en.wikipedia.org/wiki/List_of_postal_codes_of_Canada:_M, in order to obtain the data that is in the table of postal codes and to transform the data into a pandas dataframe like the one shown below:\n",
    "3. To create the above dataframe:\n",
    " * The dataframe will consist of three columns: PostalCode, Borough, and Neighborhood\n",
    "\n",
    " * Only process the cells that have an assigned borough. Ignore cells with a borough that is Not assigned."
   ]
  },
  {
   "cell_type": "code",
   "execution_count": 1,
   "metadata": {},
   "outputs": [],
   "source": [
    "# Import the pandas library\n",
    "import pandas as pd \n",
    "\n",
    "# Use read_html method of pandas to get the table\n",
    "tables = pd.read_html('https://en.wikipedia.org/wiki/List_of_postal_codes_of_Canada:_M',header=0)"
   ]
  },
  {
   "cell_type": "markdown",
   "metadata": {},
   "source": [
    "<b>[TODO]</b> The dataframe will consist of three columns: PostalCode, Borough, and Neighborhood"
   ]
  },
  {
   "cell_type": "code",
   "execution_count": 2,
   "metadata": {},
   "outputs": [],
   "source": [
    "# Define the headinds or name of three columns for our table\n",
    "headings = ['Postcode','Borough','Neighbourhood']"
   ]
  },
  {
   "cell_type": "code",
   "execution_count": 3,
   "metadata": {},
   "outputs": [],
   "source": [
    "# Finally get the dataframe table\n",
    "for table in tables:\n",
    "    current_headings = table.columns.values[:4]\n",
    "    if all(current_headings == headings):\n",
    "        break"
   ]
  },
  {
   "cell_type": "code",
   "execution_count": 4,
   "metadata": {},
   "outputs": [
    {
     "data": {
      "text/html": [
       "<div>\n",
       "<style scoped>\n",
       "    .dataframe tbody tr th:only-of-type {\n",
       "        vertical-align: middle;\n",
       "    }\n",
       "\n",
       "    .dataframe tbody tr th {\n",
       "        vertical-align: top;\n",
       "    }\n",
       "\n",
       "    .dataframe thead th {\n",
       "        text-align: right;\n",
       "    }\n",
       "</style>\n",
       "<table border=\"1\" class=\"dataframe\">\n",
       "  <thead>\n",
       "    <tr style=\"text-align: right;\">\n",
       "      <th></th>\n",
       "      <th>Postcode</th>\n",
       "      <th>Borough</th>\n",
       "      <th>Neighbourhood</th>\n",
       "    </tr>\n",
       "  </thead>\n",
       "  <tbody>\n",
       "    <tr>\n",
       "      <td>0</td>\n",
       "      <td>M1A</td>\n",
       "      <td>Not assigned</td>\n",
       "      <td>Not assigned</td>\n",
       "    </tr>\n",
       "    <tr>\n",
       "      <td>1</td>\n",
       "      <td>M2A</td>\n",
       "      <td>Not assigned</td>\n",
       "      <td>Not assigned</td>\n",
       "    </tr>\n",
       "    <tr>\n",
       "      <td>2</td>\n",
       "      <td>M3A</td>\n",
       "      <td>North York</td>\n",
       "      <td>Parkwoods</td>\n",
       "    </tr>\n",
       "    <tr>\n",
       "      <td>3</td>\n",
       "      <td>M4A</td>\n",
       "      <td>North York</td>\n",
       "      <td>Victoria Village</td>\n",
       "    </tr>\n",
       "    <tr>\n",
       "      <td>4</td>\n",
       "      <td>M5A</td>\n",
       "      <td>Downtown Toronto</td>\n",
       "      <td>Harbourfront</td>\n",
       "    </tr>\n",
       "  </tbody>\n",
       "</table>\n",
       "</div>"
      ],
      "text/plain": [
       "  Postcode           Borough     Neighbourhood\n",
       "0      M1A      Not assigned      Not assigned\n",
       "1      M2A      Not assigned      Not assigned\n",
       "2      M3A        North York         Parkwoods\n",
       "3      M4A        North York  Victoria Village\n",
       "4      M5A  Downtown Toronto      Harbourfront"
      ]
     },
     "execution_count": 4,
     "metadata": {},
     "output_type": "execute_result"
    }
   ],
   "source": [
    "# Sho the first 5 results\n",
    "table.head(5)"
   ]
  },
  {
   "cell_type": "code",
   "execution_count": 5,
   "metadata": {},
   "outputs": [
    {
     "name": "stdout",
     "output_type": "stream",
     "text": [
      "Before\n",
      "  Postcode           Borough     Neighbourhood\n",
      "0      M1A      Not assigned      Not assigned\n",
      "1      M2A      Not assigned      Not assigned\n",
      "2      M3A        North York         Parkwoods\n",
      "3      M4A        North York  Victoria Village\n",
      "4      M5A  Downtown Toronto      Harbourfront\n",
      "5      M6A        North York  Lawrence Heights\n",
      "6      M6A        North York    Lawrence Manor\n",
      "7      M7A  Downtown Toronto      Queen's Park\n",
      "8      M8A      Not assigned      Not assigned\n",
      "9      M9A         Etobicoke  Islington Avenue\n"
     ]
    }
   ],
   "source": [
    "print (\"Before\")\n",
    "print (table.head(10))"
   ]
  },
  {
   "cell_type": "markdown",
   "metadata": {},
   "source": [
    "<b>[TODO]</b> Only process the cells that have an assigned borough. Ignore cells with a borough that is Not assigned."
   ]
  },
  {
   "cell_type": "code",
   "execution_count": 6,
   "metadata": {},
   "outputs": [],
   "source": [
    "# Only process the cells that have an assigned borough. Ignore cells with a borough that is Not assigned.\n",
    "for indx,data in enumerate(table['Borough']):\n",
    "    if data == \"Not assigned\":\n",
    "        table = table.drop([indx],axis=0)\n",
    "# we need to reset index after dropping rows\n",
    "table.reset_index(inplace = True) "
   ]
  },
  {
   "cell_type": "code",
   "execution_count": 7,
   "metadata": {},
   "outputs": [
    {
     "data": {
      "text/html": [
       "<div>\n",
       "<style scoped>\n",
       "    .dataframe tbody tr th:only-of-type {\n",
       "        vertical-align: middle;\n",
       "    }\n",
       "\n",
       "    .dataframe tbody tr th {\n",
       "        vertical-align: top;\n",
       "    }\n",
       "\n",
       "    .dataframe thead th {\n",
       "        text-align: right;\n",
       "    }\n",
       "</style>\n",
       "<table border=\"1\" class=\"dataframe\">\n",
       "  <thead>\n",
       "    <tr style=\"text-align: right;\">\n",
       "      <th></th>\n",
       "      <th>index</th>\n",
       "      <th>Postcode</th>\n",
       "      <th>Borough</th>\n",
       "      <th>Neighbourhood</th>\n",
       "    </tr>\n",
       "  </thead>\n",
       "  <tbody>\n",
       "    <tr>\n",
       "      <td>0</td>\n",
       "      <td>2</td>\n",
       "      <td>M3A</td>\n",
       "      <td>North York</td>\n",
       "      <td>Parkwoods</td>\n",
       "    </tr>\n",
       "    <tr>\n",
       "      <td>1</td>\n",
       "      <td>3</td>\n",
       "      <td>M4A</td>\n",
       "      <td>North York</td>\n",
       "      <td>Victoria Village</td>\n",
       "    </tr>\n",
       "    <tr>\n",
       "      <td>2</td>\n",
       "      <td>4</td>\n",
       "      <td>M5A</td>\n",
       "      <td>Downtown Toronto</td>\n",
       "      <td>Harbourfront</td>\n",
       "    </tr>\n",
       "    <tr>\n",
       "      <td>3</td>\n",
       "      <td>5</td>\n",
       "      <td>M6A</td>\n",
       "      <td>North York</td>\n",
       "      <td>Lawrence Heights</td>\n",
       "    </tr>\n",
       "    <tr>\n",
       "      <td>4</td>\n",
       "      <td>6</td>\n",
       "      <td>M6A</td>\n",
       "      <td>North York</td>\n",
       "      <td>Lawrence Manor</td>\n",
       "    </tr>\n",
       "  </tbody>\n",
       "</table>\n",
       "</div>"
      ],
      "text/plain": [
       "   index Postcode           Borough     Neighbourhood\n",
       "0      2      M3A        North York         Parkwoods\n",
       "1      3      M4A        North York  Victoria Village\n",
       "2      4      M5A  Downtown Toronto      Harbourfront\n",
       "3      5      M6A        North York  Lawrence Heights\n",
       "4      6      M6A        North York    Lawrence Manor"
      ]
     },
     "execution_count": 7,
     "metadata": {},
     "output_type": "execute_result"
    }
   ],
   "source": [
    "# Sho the first 5 results\n",
    "table.head(5)"
   ]
  },
  {
   "cell_type": "markdown",
   "metadata": {},
   "source": [
    "<b>[TODO]</b> More than one neighborhood can exist in one postal code area. For example, in the table on the Wikipedia page, you will notice that M5A is listed twice and has two neighborhoods: Harbourfront and Regent Park. These two rows will be combined into one row with the neighborhoods separated with a comma as shown in row 11 in the above table"
   ]
  },
  {
   "cell_type": "code",
   "execution_count": 8,
   "metadata": {},
   "outputs": [],
   "source": [
    "# resetting index \n",
    "table.reset_index(inplace = True) \n",
    "\n",
    "# get the unique Postcode\n",
    "df_postcode_unique = table['Postcode'].unique()\n",
    "\n",
    "# Create dictionary of list\n",
    "post_code_dict = {}\n",
    "\n",
    "# create an temporal dictionry to hold postal code and neighboorhoods\n",
    "for code in df_postcode_unique:\n",
    "    if code not in post_code_dict.keys():\n",
    "        post_code_dict[code] = []\n",
    "\n",
    "# update the neighboorhoods into post_code_dict\n",
    "for indx,data in enumerate(table['Postcode']):\n",
    "    if len(post_code_dict[data]) == 0:\n",
    "        post_code_dict[data].append(table['Borough'][indx])\n",
    "        post_code_dict[data].append(table['Neighbourhood'][indx])\n",
    "    else:\n",
    "        post_code_dict[data].append(table['Neighbourhood'][indx])\n",
    "    \n",
    "\n",
    "# prepare the data for creating dataFrame \n",
    "data = []\n",
    "for key, value in post_code_dict.items():\n",
    "    listToStr = ', '.join([str(elem) for elem in value[1:]]) \n",
    "    data.append([key,value[0],listToStr])\n",
    "final_df = pd.DataFrame(data,columns = ['Postcode','Borough','Neighbourhood'])"
   ]
  },
  {
   "cell_type": "code",
   "execution_count": null,
   "metadata": {},
   "outputs": [],
   "source": []
  },
  {
   "cell_type": "markdown",
   "metadata": {},
   "source": [
    "<b>[TODO]</b> If a cell has a borough but a Not assigned neighborhood, then the neighborhood will be the same as the borough."
   ]
  },
  {
   "cell_type": "code",
   "execution_count": 9,
   "metadata": {},
   "outputs": [],
   "source": [
    "# If a cell has a borough but a Not assigned neighborhood, then the neighborhood will be the same as the borough.\n",
    "for indx,data in enumerate(table['Neighbourhood']):\n",
    "    if data == \"Not assigned\":\n",
    "        data = table['Borough'][indx]"
   ]
  },
  {
   "cell_type": "code",
   "execution_count": 10,
   "metadata": {},
   "outputs": [
    {
     "name": "stdout",
     "output_type": "stream",
     "text": [
      "After\n",
      "  Postcode           Borough                     Neighbourhood\n",
      "0      M3A        North York                         Parkwoods\n",
      "1      M4A        North York                  Victoria Village\n",
      "2      M5A  Downtown Toronto                      Harbourfront\n",
      "3      M6A        North York  Lawrence Heights, Lawrence Manor\n",
      "4      M7A  Downtown Toronto                      Queen's Park\n",
      "5      M9A         Etobicoke                  Islington Avenue\n",
      "6      M1B       Scarborough                    Rouge, Malvern\n",
      "7      M3B        North York                   Don Mills North\n",
      "8      M4B         East York   Woodbine Gardens, Parkview Hill\n",
      "9      M5B  Downtown Toronto          Ryerson, Garden District\n"
     ]
    }
   ],
   "source": [
    "print (\"After\")\n",
    "print (final_df.head(10))"
   ]
  },
  {
   "cell_type": "markdown",
   "metadata": {},
   "source": [
    "<b>[TODO]</b> In the last cell of your notebook, use the .shape method to print the number of rows of your dataframe."
   ]
  },
  {
   "cell_type": "code",
   "execution_count": 11,
   "metadata": {},
   "outputs": [
    {
     "name": "stdout",
     "output_type": "stream",
     "text": [
      "(103, 3)\n"
     ]
    }
   ],
   "source": [
    "print (final_df.shape)"
   ]
  },
  {
   "cell_type": "code",
   "execution_count": 13,
   "metadata": {},
   "outputs": [],
   "source": [
    "# Export to csv file\n",
    "final_df.to_csv('part1.csv')"
   ]
  }
 ],
 "metadata": {
  "kernelspec": {
   "display_name": "'Python Interactive'",
   "language": "python",
   "name": "8da351ce-89ec-4d4c-a23b-31569bcd2e06"
  },
  "language_info": {
   "codemirror_mode": {
    "name": "ipython",
    "version": 3
   },
   "file_extension": ".py",
   "mimetype": "text/x-python",
   "name": "python",
   "nbconvert_exporter": "python",
   "pygments_lexer": "ipython3",
   "version": "3.6.8"
  }
 },
 "nbformat": 4,
 "nbformat_minor": 4
}
