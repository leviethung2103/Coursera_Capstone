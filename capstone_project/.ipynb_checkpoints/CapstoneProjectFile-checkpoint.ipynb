{
 "cells": [
  {
   "cell_type": "markdown",
   "metadata": {},
   "source": [
    "## Import Libraries"
   ]
  },
  {
   "cell_type": "code",
   "execution_count": 1,
   "metadata": {},
   "outputs": [],
   "source": [
    "import sys\n",
    "import numpy as np \n",
    "import pandas as pd \n",
    "pd.set_option('display.max_columns', None)\n",
    "pd.set_option('display.max_rows', None)\n",
    "import json # library to handle JSON files\n",
    "from geopy.geocoders import Nominatim \n",
    "import requests\n",
    "from pandas.io.json import json_normalize \n",
    "import matplotlib.cm as cm\n",
    "import matplotlib.colors as colors\n",
    "from sklearn.cluster import KMeans\n",
    "import folium "
   ]
  },
  {
   "cell_type": "code",
   "execution_count": 2,
   "metadata": {},
   "outputs": [],
   "source": [
    "from collections import defaultdict\n",
    "\n",
    "venues = defaultdict(list)\n",
    "categories = {}\n",
    "coordinates = []\n",
    "\n",
    "\n",
    "pf = pd.read_csv('./dataset_tsmc2014/dataset_TSMC2014_NYC.txt', sep='\\t',engine='python')\n",
    "# with open('./dataset_tsmc2014/dataset_TSMC2014_NYC.txt') as nyc_data:\n",
    "#     for venue in nyc_data.readlines():\n",
    "#         data = venue.split('\\t')"
   ]
  },
  {
   "cell_type": "code",
   "execution_count": 3,
   "metadata": {},
   "outputs": [
    {
     "data": {
      "text/html": [
       "<div>\n",
       "<style scoped>\n",
       "    .dataframe tbody tr th:only-of-type {\n",
       "        vertical-align: middle;\n",
       "    }\n",
       "\n",
       "    .dataframe tbody tr th {\n",
       "        vertical-align: top;\n",
       "    }\n",
       "\n",
       "    .dataframe thead th {\n",
       "        text-align: right;\n",
       "    }\n",
       "</style>\n",
       "<table border=\"1\" class=\"dataframe\">\n",
       "  <thead>\n",
       "    <tr style=\"text-align: right;\">\n",
       "      <th></th>\n",
       "      <th>470</th>\n",
       "      <th>49bbd6c0f964a520f4531fe3</th>\n",
       "      <th>4bf58dd8d48988d127951735</th>\n",
       "      <th>Arts &amp; Crafts Store</th>\n",
       "      <th>40.719810375488535</th>\n",
       "      <th>-74.00258103213994</th>\n",
       "      <th>-240</th>\n",
       "      <th>Tue Apr 03 18:00:09 +0000 2012</th>\n",
       "    </tr>\n",
       "  </thead>\n",
       "  <tbody>\n",
       "    <tr>\n",
       "      <td>0</td>\n",
       "      <td>979</td>\n",
       "      <td>4a43c0aef964a520c6a61fe3</td>\n",
       "      <td>4bf58dd8d48988d1df941735</td>\n",
       "      <td>Bridge</td>\n",
       "      <td>40.606800</td>\n",
       "      <td>-74.044170</td>\n",
       "      <td>-240</td>\n",
       "      <td>Tue Apr 03 18:00:25 +0000 2012</td>\n",
       "    </tr>\n",
       "    <tr>\n",
       "      <td>1</td>\n",
       "      <td>69</td>\n",
       "      <td>4c5cc7b485a1e21e00d35711</td>\n",
       "      <td>4bf58dd8d48988d103941735</td>\n",
       "      <td>Home (private)</td>\n",
       "      <td>40.716162</td>\n",
       "      <td>-73.883070</td>\n",
       "      <td>-240</td>\n",
       "      <td>Tue Apr 03 18:02:24 +0000 2012</td>\n",
       "    </tr>\n",
       "    <tr>\n",
       "      <td>2</td>\n",
       "      <td>395</td>\n",
       "      <td>4bc7086715a7ef3bef9878da</td>\n",
       "      <td>4bf58dd8d48988d104941735</td>\n",
       "      <td>Medical Center</td>\n",
       "      <td>40.745164</td>\n",
       "      <td>-73.982519</td>\n",
       "      <td>-240</td>\n",
       "      <td>Tue Apr 03 18:02:41 +0000 2012</td>\n",
       "    </tr>\n",
       "    <tr>\n",
       "      <td>3</td>\n",
       "      <td>87</td>\n",
       "      <td>4cf2c5321d18a143951b5cec</td>\n",
       "      <td>4bf58dd8d48988d1cb941735</td>\n",
       "      <td>Food Truck</td>\n",
       "      <td>40.740104</td>\n",
       "      <td>-73.989658</td>\n",
       "      <td>-240</td>\n",
       "      <td>Tue Apr 03 18:03:00 +0000 2012</td>\n",
       "    </tr>\n",
       "    <tr>\n",
       "      <td>4</td>\n",
       "      <td>484</td>\n",
       "      <td>4b5b981bf964a520900929e3</td>\n",
       "      <td>4bf58dd8d48988d118951735</td>\n",
       "      <td>Food &amp; Drink Shop</td>\n",
       "      <td>40.690427</td>\n",
       "      <td>-73.954687</td>\n",
       "      <td>-240</td>\n",
       "      <td>Tue Apr 03 18:04:00 +0000 2012</td>\n",
       "    </tr>\n",
       "  </tbody>\n",
       "</table>\n",
       "</div>"
      ],
      "text/plain": [
       "   470  49bbd6c0f964a520f4531fe3  4bf58dd8d48988d127951735  \\\n",
       "0  979  4a43c0aef964a520c6a61fe3  4bf58dd8d48988d1df941735   \n",
       "1   69  4c5cc7b485a1e21e00d35711  4bf58dd8d48988d103941735   \n",
       "2  395  4bc7086715a7ef3bef9878da  4bf58dd8d48988d104941735   \n",
       "3   87  4cf2c5321d18a143951b5cec  4bf58dd8d48988d1cb941735   \n",
       "4  484  4b5b981bf964a520900929e3  4bf58dd8d48988d118951735   \n",
       "\n",
       "  Arts & Crafts Store  40.719810375488535  -74.00258103213994  -240  \\\n",
       "0              Bridge           40.606800          -74.044170  -240   \n",
       "1      Home (private)           40.716162          -73.883070  -240   \n",
       "2      Medical Center           40.745164          -73.982519  -240   \n",
       "3          Food Truck           40.740104          -73.989658  -240   \n",
       "4   Food & Drink Shop           40.690427          -73.954687  -240   \n",
       "\n",
       "   Tue Apr 03 18:00:09 +0000 2012  \n",
       "0  Tue Apr 03 18:00:25 +0000 2012  \n",
       "1  Tue Apr 03 18:02:24 +0000 2012  \n",
       "2  Tue Apr 03 18:02:41 +0000 2012  \n",
       "3  Tue Apr 03 18:03:00 +0000 2012  \n",
       "4  Tue Apr 03 18:04:00 +0000 2012  "
      ]
     },
     "execution_count": 3,
     "metadata": {},
     "output_type": "execute_result"
    }
   ],
   "source": [
    "pf.head(5)"
   ]
  },
  {
   "cell_type": "code",
   "execution_count": 4,
   "metadata": {},
   "outputs": [],
   "source": [
    "# Assign directly to the columns \n",
    "pf.columns = ['User ID','Venue ID','Venue Category ID','Venue Category Name','Latitude','Longitude','Timezone','UTC']"
   ]
  },
  {
   "cell_type": "code",
   "execution_count": 5,
   "metadata": {},
   "outputs": [
    {
     "data": {
      "text/html": [
       "<div>\n",
       "<style scoped>\n",
       "    .dataframe tbody tr th:only-of-type {\n",
       "        vertical-align: middle;\n",
       "    }\n",
       "\n",
       "    .dataframe tbody tr th {\n",
       "        vertical-align: top;\n",
       "    }\n",
       "\n",
       "    .dataframe thead th {\n",
       "        text-align: right;\n",
       "    }\n",
       "</style>\n",
       "<table border=\"1\" class=\"dataframe\">\n",
       "  <thead>\n",
       "    <tr style=\"text-align: right;\">\n",
       "      <th></th>\n",
       "      <th>User ID</th>\n",
       "      <th>Venue ID</th>\n",
       "      <th>Venue Category ID</th>\n",
       "      <th>Venue Category Name</th>\n",
       "      <th>Latitude</th>\n",
       "      <th>Longitude</th>\n",
       "      <th>Timezone</th>\n",
       "      <th>UTC</th>\n",
       "    </tr>\n",
       "  </thead>\n",
       "  <tbody>\n",
       "    <tr>\n",
       "      <td>0</td>\n",
       "      <td>979</td>\n",
       "      <td>4a43c0aef964a520c6a61fe3</td>\n",
       "      <td>4bf58dd8d48988d1df941735</td>\n",
       "      <td>Bridge</td>\n",
       "      <td>40.606800</td>\n",
       "      <td>-74.044170</td>\n",
       "      <td>-240</td>\n",
       "      <td>Tue Apr 03 18:00:25 +0000 2012</td>\n",
       "    </tr>\n",
       "    <tr>\n",
       "      <td>1</td>\n",
       "      <td>69</td>\n",
       "      <td>4c5cc7b485a1e21e00d35711</td>\n",
       "      <td>4bf58dd8d48988d103941735</td>\n",
       "      <td>Home (private)</td>\n",
       "      <td>40.716162</td>\n",
       "      <td>-73.883070</td>\n",
       "      <td>-240</td>\n",
       "      <td>Tue Apr 03 18:02:24 +0000 2012</td>\n",
       "    </tr>\n",
       "    <tr>\n",
       "      <td>2</td>\n",
       "      <td>395</td>\n",
       "      <td>4bc7086715a7ef3bef9878da</td>\n",
       "      <td>4bf58dd8d48988d104941735</td>\n",
       "      <td>Medical Center</td>\n",
       "      <td>40.745164</td>\n",
       "      <td>-73.982519</td>\n",
       "      <td>-240</td>\n",
       "      <td>Tue Apr 03 18:02:41 +0000 2012</td>\n",
       "    </tr>\n",
       "    <tr>\n",
       "      <td>3</td>\n",
       "      <td>87</td>\n",
       "      <td>4cf2c5321d18a143951b5cec</td>\n",
       "      <td>4bf58dd8d48988d1cb941735</td>\n",
       "      <td>Food Truck</td>\n",
       "      <td>40.740104</td>\n",
       "      <td>-73.989658</td>\n",
       "      <td>-240</td>\n",
       "      <td>Tue Apr 03 18:03:00 +0000 2012</td>\n",
       "    </tr>\n",
       "    <tr>\n",
       "      <td>4</td>\n",
       "      <td>484</td>\n",
       "      <td>4b5b981bf964a520900929e3</td>\n",
       "      <td>4bf58dd8d48988d118951735</td>\n",
       "      <td>Food &amp; Drink Shop</td>\n",
       "      <td>40.690427</td>\n",
       "      <td>-73.954687</td>\n",
       "      <td>-240</td>\n",
       "      <td>Tue Apr 03 18:04:00 +0000 2012</td>\n",
       "    </tr>\n",
       "  </tbody>\n",
       "</table>\n",
       "</div>"
      ],
      "text/plain": [
       "   User ID                  Venue ID         Venue Category ID  \\\n",
       "0      979  4a43c0aef964a520c6a61fe3  4bf58dd8d48988d1df941735   \n",
       "1       69  4c5cc7b485a1e21e00d35711  4bf58dd8d48988d103941735   \n",
       "2      395  4bc7086715a7ef3bef9878da  4bf58dd8d48988d104941735   \n",
       "3       87  4cf2c5321d18a143951b5cec  4bf58dd8d48988d1cb941735   \n",
       "4      484  4b5b981bf964a520900929e3  4bf58dd8d48988d118951735   \n",
       "\n",
       "  Venue Category Name   Latitude  Longitude  Timezone  \\\n",
       "0              Bridge  40.606800 -74.044170      -240   \n",
       "1      Home (private)  40.716162 -73.883070      -240   \n",
       "2      Medical Center  40.745164 -73.982519      -240   \n",
       "3          Food Truck  40.740104 -73.989658      -240   \n",
       "4   Food & Drink Shop  40.690427 -73.954687      -240   \n",
       "\n",
       "                              UTC  \n",
       "0  Tue Apr 03 18:00:25 +0000 2012  \n",
       "1  Tue Apr 03 18:02:24 +0000 2012  \n",
       "2  Tue Apr 03 18:02:41 +0000 2012  \n",
       "3  Tue Apr 03 18:03:00 +0000 2012  \n",
       "4  Tue Apr 03 18:04:00 +0000 2012  "
      ]
     },
     "execution_count": 5,
     "metadata": {},
     "output_type": "execute_result"
    }
   ],
   "source": [
    "pf.head(5)"
   ]
  },
  {
   "cell_type": "code",
   "execution_count": 6,
   "metadata": {},
   "outputs": [],
   "source": [
    "# get the coordinate for the shop\n",
    "for indx,data in enumerate(pf):\n",
    "    coordinates.append([pf['Latitude'][indx],pf['Longitude'][indx]])"
   ]
  },
  {
   "cell_type": "code",
   "execution_count": 7,
   "metadata": {},
   "outputs": [
    {
     "data": {
      "text/plain": [
       "[[40.606799581406435, -74.04416981025437],\n",
       " [40.71616168484322, -73.88307005845945],\n",
       " [40.7451638, -73.982518775],\n",
       " [40.74010382743943, -73.98965835571289],\n",
       " [40.69042711809854, -73.954686775096],\n",
       " [40.75159143134631, -73.9741214009634],\n",
       " [40.77942173066975, -73.95534113280371],\n",
       " [40.61915106755737, -74.03588760058483]]"
      ]
     },
     "execution_count": 7,
     "metadata": {},
     "output_type": "execute_result"
    }
   ],
   "source": [
    "coordinates"
   ]
  },
  {
   "cell_type": "code",
   "execution_count": null,
   "metadata": {},
   "outputs": [],
   "source": [
    "# We don't care about the Venue Category ID, Timezone,UTC, we drop this column\n",
    "pf.drop(['Venue Category ID','Timezone','UTC'], axis=1)"
   ]
  }
 ],
 "metadata": {
  "kernelspec": {
   "display_name": "Python 3",
   "language": "python",
   "name": "python3"
  },
  "language_info": {
   "codemirror_mode": {
    "name": "ipython",
    "version": 3
   },
   "file_extension": ".py",
   "mimetype": "text/x-python",
   "name": "python",
   "nbconvert_exporter": "python",
   "pygments_lexer": "ipython3",
   "version": "3.6.8"
  }
 },
 "nbformat": 4,
 "nbformat_minor": 4
}
